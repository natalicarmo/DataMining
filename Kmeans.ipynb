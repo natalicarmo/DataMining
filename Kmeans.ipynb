{
 "cells": [
  {
   "cell_type": "code",
   "execution_count": 1,
   "metadata": {},
   "outputs": [],
   "source": [
    "#1 Importing the libraries"
   ]
  },
  {
   "cell_type": "code",
   "execution_count": 2,
   "metadata": {},
   "outputs": [],
   "source": [
    "import numpy as np\n",
    "import matplotlib.pyplot as plt\n",
    "import pandas as pd"
   ]
  },
  {
   "cell_type": "code",
   "execution_count": 3,
   "metadata": {},
   "outputs": [],
   "source": [
    "dataset= pd.read_csv(\"C:/Users/Natalia/Desktop/Summer2020/Segundo Projeto/clientes.csv\")\n",
    "#Select the annual income and the spending score columns X=dataset.iloc[:, [3,4]].values"
   ]
  },
  {
   "cell_type": "code",
   "execution_count": 4,
   "metadata": {},
   "outputs": [
    {
     "data": {
      "text/html": [
       "<div>\n",
       "<style scoped>\n",
       "    .dataframe tbody tr th:only-of-type {\n",
       "        vertical-align: middle;\n",
       "    }\n",
       "\n",
       "    .dataframe tbody tr th {\n",
       "        vertical-align: top;\n",
       "    }\n",
       "\n",
       "    .dataframe thead th {\n",
       "        text-align: right;\n",
       "    }\n",
       "</style>\n",
       "<table border=\"1\" class=\"dataframe\">\n",
       "  <thead>\n",
       "    <tr style=\"text-align: right;\">\n",
       "      <th></th>\n",
       "      <th>ID</th>\n",
       "      <th>Prod1</th>\n",
       "      <th>Prod2</th>\n",
       "      <th>Prod3</th>\n",
       "      <th>Prod4</th>\n",
       "      <th>Prod5</th>\n",
       "      <th>Prod6</th>\n",
       "      <th>Prod7</th>\n",
       "      <th>Prod8</th>\n",
       "      <th>Prod9</th>\n",
       "      <th>Prod10</th>\n",
       "    </tr>\n",
       "  </thead>\n",
       "  <tbody>\n",
       "    <tr>\n",
       "      <th>0</th>\n",
       "      <td>1</td>\n",
       "      <td>21</td>\n",
       "      <td>80</td>\n",
       "      <td>37</td>\n",
       "      <td>27</td>\n",
       "      <td>5</td>\n",
       "      <td>38</td>\n",
       "      <td>55</td>\n",
       "      <td>7</td>\n",
       "      <td>4</td>\n",
       "      <td>54</td>\n",
       "    </tr>\n",
       "    <tr>\n",
       "      <th>1</th>\n",
       "      <td>2</td>\n",
       "      <td>23</td>\n",
       "      <td>83</td>\n",
       "      <td>37</td>\n",
       "      <td>30</td>\n",
       "      <td>12</td>\n",
       "      <td>32</td>\n",
       "      <td>61</td>\n",
       "      <td>10</td>\n",
       "      <td>9</td>\n",
       "      <td>48</td>\n",
       "    </tr>\n",
       "    <tr>\n",
       "      <th>2</th>\n",
       "      <td>3</td>\n",
       "      <td>22</td>\n",
       "      <td>96</td>\n",
       "      <td>35</td>\n",
       "      <td>28</td>\n",
       "      <td>3</td>\n",
       "      <td>32</td>\n",
       "      <td>64</td>\n",
       "      <td>6</td>\n",
       "      <td>4</td>\n",
       "      <td>50</td>\n",
       "    </tr>\n",
       "    <tr>\n",
       "      <th>3</th>\n",
       "      <td>4</td>\n",
       "      <td>71</td>\n",
       "      <td>58</td>\n",
       "      <td>34</td>\n",
       "      <td>26</td>\n",
       "      <td>6</td>\n",
       "      <td>88</td>\n",
       "      <td>13</td>\n",
       "      <td>1</td>\n",
       "      <td>0</td>\n",
       "      <td>20</td>\n",
       "    </tr>\n",
       "    <tr>\n",
       "      <th>4</th>\n",
       "      <td>5</td>\n",
       "      <td>22</td>\n",
       "      <td>84</td>\n",
       "      <td>32</td>\n",
       "      <td>29</td>\n",
       "      <td>14</td>\n",
       "      <td>31</td>\n",
       "      <td>52</td>\n",
       "      <td>19</td>\n",
       "      <td>4</td>\n",
       "      <td>48</td>\n",
       "    </tr>\n",
       "    <tr>\n",
       "      <th>...</th>\n",
       "      <td>...</td>\n",
       "      <td>...</td>\n",
       "      <td>...</td>\n",
       "      <td>...</td>\n",
       "      <td>...</td>\n",
       "      <td>...</td>\n",
       "      <td>...</td>\n",
       "      <td>...</td>\n",
       "      <td>...</td>\n",
       "      <td>...</td>\n",
       "      <td>...</td>\n",
       "    </tr>\n",
       "    <tr>\n",
       "      <th>9995</th>\n",
       "      <td>9996</td>\n",
       "      <td>74</td>\n",
       "      <td>78</td>\n",
       "      <td>31</td>\n",
       "      <td>29</td>\n",
       "      <td>15</td>\n",
       "      <td>85</td>\n",
       "      <td>17</td>\n",
       "      <td>3</td>\n",
       "      <td>1</td>\n",
       "      <td>19</td>\n",
       "    </tr>\n",
       "    <tr>\n",
       "      <th>9996</th>\n",
       "      <td>9997</td>\n",
       "      <td>23</td>\n",
       "      <td>98</td>\n",
       "      <td>35</td>\n",
       "      <td>26</td>\n",
       "      <td>3</td>\n",
       "      <td>40</td>\n",
       "      <td>62</td>\n",
       "      <td>9</td>\n",
       "      <td>7</td>\n",
       "      <td>60</td>\n",
       "    </tr>\n",
       "    <tr>\n",
       "      <th>9997</th>\n",
       "      <td>9998</td>\n",
       "      <td>22</td>\n",
       "      <td>74</td>\n",
       "      <td>33</td>\n",
       "      <td>26</td>\n",
       "      <td>5</td>\n",
       "      <td>33</td>\n",
       "      <td>63</td>\n",
       "      <td>17</td>\n",
       "      <td>10</td>\n",
       "      <td>60</td>\n",
       "    </tr>\n",
       "    <tr>\n",
       "      <th>9998</th>\n",
       "      <td>9999</td>\n",
       "      <td>72</td>\n",
       "      <td>84</td>\n",
       "      <td>35</td>\n",
       "      <td>30</td>\n",
       "      <td>9</td>\n",
       "      <td>83</td>\n",
       "      <td>20</td>\n",
       "      <td>3</td>\n",
       "      <td>2</td>\n",
       "      <td>2</td>\n",
       "    </tr>\n",
       "    <tr>\n",
       "      <th>9999</th>\n",
       "      <td>10000</td>\n",
       "      <td>75</td>\n",
       "      <td>58</td>\n",
       "      <td>37</td>\n",
       "      <td>27</td>\n",
       "      <td>4</td>\n",
       "      <td>85</td>\n",
       "      <td>20</td>\n",
       "      <td>4</td>\n",
       "      <td>1</td>\n",
       "      <td>13</td>\n",
       "    </tr>\n",
       "  </tbody>\n",
       "</table>\n",
       "<p>10000 rows × 11 columns</p>\n",
       "</div>"
      ],
      "text/plain": [
       "         ID  Prod1  Prod2  Prod3  Prod4  Prod5  Prod6  Prod7  Prod8  Prod9  \\\n",
       "0         1     21     80     37     27      5     38     55      7      4   \n",
       "1         2     23     83     37     30     12     32     61     10      9   \n",
       "2         3     22     96     35     28      3     32     64      6      4   \n",
       "3         4     71     58     34     26      6     88     13      1      0   \n",
       "4         5     22     84     32     29     14     31     52     19      4   \n",
       "...     ...    ...    ...    ...    ...    ...    ...    ...    ...    ...   \n",
       "9995   9996     74     78     31     29     15     85     17      3      1   \n",
       "9996   9997     23     98     35     26      3     40     62      9      7   \n",
       "9997   9998     22     74     33     26      5     33     63     17     10   \n",
       "9998   9999     72     84     35     30      9     83     20      3      2   \n",
       "9999  10000     75     58     37     27      4     85     20      4      1   \n",
       "\n",
       "      Prod10  \n",
       "0         54  \n",
       "1         48  \n",
       "2         50  \n",
       "3         20  \n",
       "4         48  \n",
       "...      ...  \n",
       "9995      19  \n",
       "9996      60  \n",
       "9997      60  \n",
       "9998       2  \n",
       "9999      13  \n",
       "\n",
       "[10000 rows x 11 columns]"
      ]
     },
     "execution_count": 4,
     "metadata": {},
     "output_type": "execute_result"
    }
   ],
   "source": [
    "dataset"
   ]
  },
  {
   "cell_type": "code",
   "execution_count": 5,
   "metadata": {},
   "outputs": [],
   "source": [
    "dataset = dataset.drop(columns=\"ID\")"
   ]
  },
  {
   "cell_type": "code",
   "execution_count": 6,
   "metadata": {},
   "outputs": [
    {
     "data": {
      "text/html": [
       "<div>\n",
       "<style scoped>\n",
       "    .dataframe tbody tr th:only-of-type {\n",
       "        vertical-align: middle;\n",
       "    }\n",
       "\n",
       "    .dataframe tbody tr th {\n",
       "        vertical-align: top;\n",
       "    }\n",
       "\n",
       "    .dataframe thead th {\n",
       "        text-align: right;\n",
       "    }\n",
       "</style>\n",
       "<table border=\"1\" class=\"dataframe\">\n",
       "  <thead>\n",
       "    <tr style=\"text-align: right;\">\n",
       "      <th></th>\n",
       "      <th>Prod1</th>\n",
       "      <th>Prod2</th>\n",
       "      <th>Prod3</th>\n",
       "      <th>Prod4</th>\n",
       "      <th>Prod5</th>\n",
       "      <th>Prod6</th>\n",
       "      <th>Prod7</th>\n",
       "      <th>Prod8</th>\n",
       "      <th>Prod9</th>\n",
       "      <th>Prod10</th>\n",
       "    </tr>\n",
       "  </thead>\n",
       "  <tbody>\n",
       "    <tr>\n",
       "      <th>0</th>\n",
       "      <td>21</td>\n",
       "      <td>80</td>\n",
       "      <td>37</td>\n",
       "      <td>27</td>\n",
       "      <td>5</td>\n",
       "      <td>38</td>\n",
       "      <td>55</td>\n",
       "      <td>7</td>\n",
       "      <td>4</td>\n",
       "      <td>54</td>\n",
       "    </tr>\n",
       "    <tr>\n",
       "      <th>1</th>\n",
       "      <td>23</td>\n",
       "      <td>83</td>\n",
       "      <td>37</td>\n",
       "      <td>30</td>\n",
       "      <td>12</td>\n",
       "      <td>32</td>\n",
       "      <td>61</td>\n",
       "      <td>10</td>\n",
       "      <td>9</td>\n",
       "      <td>48</td>\n",
       "    </tr>\n",
       "    <tr>\n",
       "      <th>2</th>\n",
       "      <td>22</td>\n",
       "      <td>96</td>\n",
       "      <td>35</td>\n",
       "      <td>28</td>\n",
       "      <td>3</td>\n",
       "      <td>32</td>\n",
       "      <td>64</td>\n",
       "      <td>6</td>\n",
       "      <td>4</td>\n",
       "      <td>50</td>\n",
       "    </tr>\n",
       "    <tr>\n",
       "      <th>3</th>\n",
       "      <td>71</td>\n",
       "      <td>58</td>\n",
       "      <td>34</td>\n",
       "      <td>26</td>\n",
       "      <td>6</td>\n",
       "      <td>88</td>\n",
       "      <td>13</td>\n",
       "      <td>1</td>\n",
       "      <td>0</td>\n",
       "      <td>20</td>\n",
       "    </tr>\n",
       "    <tr>\n",
       "      <th>4</th>\n",
       "      <td>22</td>\n",
       "      <td>84</td>\n",
       "      <td>32</td>\n",
       "      <td>29</td>\n",
       "      <td>14</td>\n",
       "      <td>31</td>\n",
       "      <td>52</td>\n",
       "      <td>19</td>\n",
       "      <td>4</td>\n",
       "      <td>48</td>\n",
       "    </tr>\n",
       "    <tr>\n",
       "      <th>...</th>\n",
       "      <td>...</td>\n",
       "      <td>...</td>\n",
       "      <td>...</td>\n",
       "      <td>...</td>\n",
       "      <td>...</td>\n",
       "      <td>...</td>\n",
       "      <td>...</td>\n",
       "      <td>...</td>\n",
       "      <td>...</td>\n",
       "      <td>...</td>\n",
       "    </tr>\n",
       "    <tr>\n",
       "      <th>9995</th>\n",
       "      <td>74</td>\n",
       "      <td>78</td>\n",
       "      <td>31</td>\n",
       "      <td>29</td>\n",
       "      <td>15</td>\n",
       "      <td>85</td>\n",
       "      <td>17</td>\n",
       "      <td>3</td>\n",
       "      <td>1</td>\n",
       "      <td>19</td>\n",
       "    </tr>\n",
       "    <tr>\n",
       "      <th>9996</th>\n",
       "      <td>23</td>\n",
       "      <td>98</td>\n",
       "      <td>35</td>\n",
       "      <td>26</td>\n",
       "      <td>3</td>\n",
       "      <td>40</td>\n",
       "      <td>62</td>\n",
       "      <td>9</td>\n",
       "      <td>7</td>\n",
       "      <td>60</td>\n",
       "    </tr>\n",
       "    <tr>\n",
       "      <th>9997</th>\n",
       "      <td>22</td>\n",
       "      <td>74</td>\n",
       "      <td>33</td>\n",
       "      <td>26</td>\n",
       "      <td>5</td>\n",
       "      <td>33</td>\n",
       "      <td>63</td>\n",
       "      <td>17</td>\n",
       "      <td>10</td>\n",
       "      <td>60</td>\n",
       "    </tr>\n",
       "    <tr>\n",
       "      <th>9998</th>\n",
       "      <td>72</td>\n",
       "      <td>84</td>\n",
       "      <td>35</td>\n",
       "      <td>30</td>\n",
       "      <td>9</td>\n",
       "      <td>83</td>\n",
       "      <td>20</td>\n",
       "      <td>3</td>\n",
       "      <td>2</td>\n",
       "      <td>2</td>\n",
       "    </tr>\n",
       "    <tr>\n",
       "      <th>9999</th>\n",
       "      <td>75</td>\n",
       "      <td>58</td>\n",
       "      <td>37</td>\n",
       "      <td>27</td>\n",
       "      <td>4</td>\n",
       "      <td>85</td>\n",
       "      <td>20</td>\n",
       "      <td>4</td>\n",
       "      <td>1</td>\n",
       "      <td>13</td>\n",
       "    </tr>\n",
       "  </tbody>\n",
       "</table>\n",
       "<p>10000 rows × 10 columns</p>\n",
       "</div>"
      ],
      "text/plain": [
       "      Prod1  Prod2  Prod3  Prod4  Prod5  Prod6  Prod7  Prod8  Prod9  Prod10\n",
       "0        21     80     37     27      5     38     55      7      4      54\n",
       "1        23     83     37     30     12     32     61     10      9      48\n",
       "2        22     96     35     28      3     32     64      6      4      50\n",
       "3        71     58     34     26      6     88     13      1      0      20\n",
       "4        22     84     32     29     14     31     52     19      4      48\n",
       "...     ...    ...    ...    ...    ...    ...    ...    ...    ...     ...\n",
       "9995     74     78     31     29     15     85     17      3      1      19\n",
       "9996     23     98     35     26      3     40     62      9      7      60\n",
       "9997     22     74     33     26      5     33     63     17     10      60\n",
       "9998     72     84     35     30      9     83     20      3      2       2\n",
       "9999     75     58     37     27      4     85     20      4      1      13\n",
       "\n",
       "[10000 rows x 10 columns]"
      ]
     },
     "execution_count": 6,
     "metadata": {},
     "output_type": "execute_result"
    }
   ],
   "source": [
    "dataset"
   ]
  },
  {
   "cell_type": "code",
   "execution_count": 7,
   "metadata": {},
   "outputs": [],
   "source": [
    "from sklearn.preprocessing import MinMaxScaler\n",
    "\n",
    "mms=MinMaxScaler() #escalando o dataset\n",
    "mms.fit(dataset)\n",
    "dataset =mms.transform(dataset)"
   ]
  },
  {
   "cell_type": "code",
   "execution_count": 8,
   "metadata": {},
   "outputs": [
    {
     "data": {
      "text/plain": [
       "array([[0.28      , 0.59183673, 1.        , ..., 0.12244898, 0.06666667,\n",
       "        0.89830508],\n",
       "       [0.30666667, 0.65306122, 1.        , ..., 0.18367347, 0.15      ,\n",
       "        0.79661017],\n",
       "       [0.29333333, 0.91836735, 0.66666667, ..., 0.10204082, 0.06666667,\n",
       "        0.83050847],\n",
       "       ...,\n",
       "       [0.29333333, 0.46938776, 0.33333333, ..., 0.32653061, 0.16666667,\n",
       "        1.        ],\n",
       "       [0.96      , 0.67346939, 0.66666667, ..., 0.04081633, 0.03333333,\n",
       "        0.01694915],\n",
       "       [1.        , 0.14285714, 1.        , ..., 0.06122449, 0.01666667,\n",
       "        0.20338983]])"
      ]
     },
     "execution_count": 8,
     "metadata": {},
     "output_type": "execute_result"
    }
   ],
   "source": [
    "dataset"
   ]
  },
  {
   "cell_type": "code",
   "execution_count": 9,
   "metadata": {},
   "outputs": [],
   "source": [
    "dataset = pd.DataFrame(dataset, columns=['C1','C2','C3','C4','C5','C6','C7','C8','C9','C10'])"
   ]
  },
  {
   "cell_type": "code",
   "execution_count": 16,
   "metadata": {},
   "outputs": [
    {
     "data": {
      "text/html": [
       "<div>\n",
       "<style scoped>\n",
       "    .dataframe tbody tr th:only-of-type {\n",
       "        vertical-align: middle;\n",
       "    }\n",
       "\n",
       "    .dataframe tbody tr th {\n",
       "        vertical-align: top;\n",
       "    }\n",
       "\n",
       "    .dataframe thead th {\n",
       "        text-align: right;\n",
       "    }\n",
       "</style>\n",
       "<table border=\"1\" class=\"dataframe\">\n",
       "  <thead>\n",
       "    <tr style=\"text-align: right;\">\n",
       "      <th></th>\n",
       "      <th>C1</th>\n",
       "      <th>C2</th>\n",
       "      <th>C3</th>\n",
       "      <th>C4</th>\n",
       "      <th>C5</th>\n",
       "      <th>C6</th>\n",
       "      <th>C7</th>\n",
       "      <th>C8</th>\n",
       "      <th>C9</th>\n",
       "      <th>C10</th>\n",
       "    </tr>\n",
       "  </thead>\n",
       "  <tbody>\n",
       "    <tr>\n",
       "      <th>0</th>\n",
       "      <td>0.280000</td>\n",
       "      <td>0.591837</td>\n",
       "      <td>1.000000</td>\n",
       "      <td>0.25</td>\n",
       "      <td>0.210526</td>\n",
       "      <td>0.422222</td>\n",
       "      <td>0.843750</td>\n",
       "      <td>0.122449</td>\n",
       "      <td>0.066667</td>\n",
       "      <td>0.898305</td>\n",
       "    </tr>\n",
       "    <tr>\n",
       "      <th>1</th>\n",
       "      <td>0.306667</td>\n",
       "      <td>0.653061</td>\n",
       "      <td>1.000000</td>\n",
       "      <td>1.00</td>\n",
       "      <td>0.578947</td>\n",
       "      <td>0.355556</td>\n",
       "      <td>0.937500</td>\n",
       "      <td>0.183673</td>\n",
       "      <td>0.150000</td>\n",
       "      <td>0.796610</td>\n",
       "    </tr>\n",
       "    <tr>\n",
       "      <th>2</th>\n",
       "      <td>0.293333</td>\n",
       "      <td>0.918367</td>\n",
       "      <td>0.666667</td>\n",
       "      <td>0.50</td>\n",
       "      <td>0.105263</td>\n",
       "      <td>0.355556</td>\n",
       "      <td>0.984375</td>\n",
       "      <td>0.102041</td>\n",
       "      <td>0.066667</td>\n",
       "      <td>0.830508</td>\n",
       "    </tr>\n",
       "    <tr>\n",
       "      <th>3</th>\n",
       "      <td>0.946667</td>\n",
       "      <td>0.142857</td>\n",
       "      <td>0.500000</td>\n",
       "      <td>0.00</td>\n",
       "      <td>0.263158</td>\n",
       "      <td>0.977778</td>\n",
       "      <td>0.187500</td>\n",
       "      <td>0.000000</td>\n",
       "      <td>0.000000</td>\n",
       "      <td>0.322034</td>\n",
       "    </tr>\n",
       "    <tr>\n",
       "      <th>4</th>\n",
       "      <td>0.293333</td>\n",
       "      <td>0.673469</td>\n",
       "      <td>0.166667</td>\n",
       "      <td>0.75</td>\n",
       "      <td>0.684211</td>\n",
       "      <td>0.344444</td>\n",
       "      <td>0.796875</td>\n",
       "      <td>0.367347</td>\n",
       "      <td>0.066667</td>\n",
       "      <td>0.796610</td>\n",
       "    </tr>\n",
       "    <tr>\n",
       "      <th>...</th>\n",
       "      <td>...</td>\n",
       "      <td>...</td>\n",
       "      <td>...</td>\n",
       "      <td>...</td>\n",
       "      <td>...</td>\n",
       "      <td>...</td>\n",
       "      <td>...</td>\n",
       "      <td>...</td>\n",
       "      <td>...</td>\n",
       "      <td>...</td>\n",
       "    </tr>\n",
       "    <tr>\n",
       "      <th>9995</th>\n",
       "      <td>0.986667</td>\n",
       "      <td>0.551020</td>\n",
       "      <td>0.000000</td>\n",
       "      <td>0.75</td>\n",
       "      <td>0.736842</td>\n",
       "      <td>0.944444</td>\n",
       "      <td>0.250000</td>\n",
       "      <td>0.040816</td>\n",
       "      <td>0.016667</td>\n",
       "      <td>0.305085</td>\n",
       "    </tr>\n",
       "    <tr>\n",
       "      <th>9996</th>\n",
       "      <td>0.306667</td>\n",
       "      <td>0.959184</td>\n",
       "      <td>0.666667</td>\n",
       "      <td>0.00</td>\n",
       "      <td>0.105263</td>\n",
       "      <td>0.444444</td>\n",
       "      <td>0.953125</td>\n",
       "      <td>0.163265</td>\n",
       "      <td>0.116667</td>\n",
       "      <td>1.000000</td>\n",
       "    </tr>\n",
       "    <tr>\n",
       "      <th>9997</th>\n",
       "      <td>0.293333</td>\n",
       "      <td>0.469388</td>\n",
       "      <td>0.333333</td>\n",
       "      <td>0.00</td>\n",
       "      <td>0.210526</td>\n",
       "      <td>0.366667</td>\n",
       "      <td>0.968750</td>\n",
       "      <td>0.326531</td>\n",
       "      <td>0.166667</td>\n",
       "      <td>1.000000</td>\n",
       "    </tr>\n",
       "    <tr>\n",
       "      <th>9998</th>\n",
       "      <td>0.960000</td>\n",
       "      <td>0.673469</td>\n",
       "      <td>0.666667</td>\n",
       "      <td>1.00</td>\n",
       "      <td>0.421053</td>\n",
       "      <td>0.922222</td>\n",
       "      <td>0.296875</td>\n",
       "      <td>0.040816</td>\n",
       "      <td>0.033333</td>\n",
       "      <td>0.016949</td>\n",
       "    </tr>\n",
       "    <tr>\n",
       "      <th>9999</th>\n",
       "      <td>1.000000</td>\n",
       "      <td>0.142857</td>\n",
       "      <td>1.000000</td>\n",
       "      <td>0.25</td>\n",
       "      <td>0.157895</td>\n",
       "      <td>0.944444</td>\n",
       "      <td>0.296875</td>\n",
       "      <td>0.061224</td>\n",
       "      <td>0.016667</td>\n",
       "      <td>0.203390</td>\n",
       "    </tr>\n",
       "  </tbody>\n",
       "</table>\n",
       "<p>10000 rows × 10 columns</p>\n",
       "</div>"
      ],
      "text/plain": [
       "            C1        C2        C3    C4        C5        C6        C7  \\\n",
       "0     0.280000  0.591837  1.000000  0.25  0.210526  0.422222  0.843750   \n",
       "1     0.306667  0.653061  1.000000  1.00  0.578947  0.355556  0.937500   \n",
       "2     0.293333  0.918367  0.666667  0.50  0.105263  0.355556  0.984375   \n",
       "3     0.946667  0.142857  0.500000  0.00  0.263158  0.977778  0.187500   \n",
       "4     0.293333  0.673469  0.166667  0.75  0.684211  0.344444  0.796875   \n",
       "...        ...       ...       ...   ...       ...       ...       ...   \n",
       "9995  0.986667  0.551020  0.000000  0.75  0.736842  0.944444  0.250000   \n",
       "9996  0.306667  0.959184  0.666667  0.00  0.105263  0.444444  0.953125   \n",
       "9997  0.293333  0.469388  0.333333  0.00  0.210526  0.366667  0.968750   \n",
       "9998  0.960000  0.673469  0.666667  1.00  0.421053  0.922222  0.296875   \n",
       "9999  1.000000  0.142857  1.000000  0.25  0.157895  0.944444  0.296875   \n",
       "\n",
       "            C8        C9       C10  \n",
       "0     0.122449  0.066667  0.898305  \n",
       "1     0.183673  0.150000  0.796610  \n",
       "2     0.102041  0.066667  0.830508  \n",
       "3     0.000000  0.000000  0.322034  \n",
       "4     0.367347  0.066667  0.796610  \n",
       "...        ...       ...       ...  \n",
       "9995  0.040816  0.016667  0.305085  \n",
       "9996  0.163265  0.116667  1.000000  \n",
       "9997  0.326531  0.166667  1.000000  \n",
       "9998  0.040816  0.033333  0.016949  \n",
       "9999  0.061224  0.016667  0.203390  \n",
       "\n",
       "[10000 rows x 10 columns]"
      ]
     },
     "execution_count": 16,
     "metadata": {},
     "output_type": "execute_result"
    }
   ],
   "source": [
    "dataset"
   ]
  },
  {
   "cell_type": "code",
   "execution_count": 10,
   "metadata": {},
   "outputs": [],
   "source": [
    "X = np.array(dataset)"
   ]
  },
  {
   "cell_type": "code",
   "execution_count": 18,
   "metadata": {},
   "outputs": [],
   "source": [
    "def calculate_wcss(dataset):\n",
    "    So = [] #aplicando elbow point\n",
    "    n = range(1,10)\n",
    "    for N in n:\n",
    "        km = KMeans(n_clusters=N)\n",
    "        km = km.fit(dataset)\n",
    "        So.append(km.inertia_)\n",
    "    return So"
   ]
  },
  {
   "cell_type": "code",
   "execution_count": 20,
   "metadata": {},
   "outputs": [
    {
     "data": {
      "image/png": "[encoded data removed]",
      "text/plain": [
       "<Figure size 432x288 with 1 Axes>"
      ]
     },
     "metadata": {
      "needs_background": "light"
     },
     "output_type": "display_data"
    }
   ],
   "source": [
    "So = calculate_wcss(dataset)\n",
    "plt.plot(range(1,10),So) #plotando o gráfico\n",
    "plt.show()"
   ]
  },
  {
   "cell_type": "code",
   "execution_count": 21,
   "metadata": {},
   "outputs": [],
   "source": [
    "def optimal_number_of_clusters(So): #calculando distância entre cada ponto em relação a reta que passa por a1 e a9\n",
    "    x1, y1 = 2, So[0]\n",
    "    x2, y2 = 20, So[len(So)-1]\n",
    "\n",
    "    distances = []\n",
    "    for i in range(len(So)):\n",
    "        x0 = i+2\n",
    "        y0 = So[i]\n",
    "        numerator = abs((y2-y1)*x0 - (x2-x1)*y0 + x2*y1 - y2*x1)\n",
    "        denominator = math.sqrt((y2 - y1)**2 + (x2 - x1)**2)\n",
    "        distances.append(numerator/denominator)\n",
    "    \n",
    "    return distances.index(max(distances)) + 2"
   ]
  },
  {
   "cell_type": "code",
   "execution_count": 24,
   "metadata": {},
   "outputs": [
    {
     "data": {
      "text/plain": [
       "5"
      ]
     },
     "execution_count": 24,
     "metadata": {},
     "output_type": "execute_result"
    }
   ],
   "source": [
    "So = calculate_wcss(dataset)\n",
    "import math\n",
    "# calculando a quantidade ótima de clusters\n",
    "k_ideal = optimal_number_of_clusters(So)\n",
    "k_ideal"
   ]
  },
  {
   "cell_type": "code",
   "execution_count": 25,
   "metadata": {},
   "outputs": [
    {
     "name": "stdout",
     "output_type": "stream",
     "text": [
      "[[ 9.22501894 -1.6875757 ]\n",
      " [-2.49346611  2.11383306]\n",
      " [ 1.58016528  3.85051071]\n",
      " [-1.43939144  2.28826426]\n",
      " [ 9.49453833 -2.1045749 ]\n",
      " [-1.57663327  2.70825651]\n",
      " [ 2.37645512  0.55035625]\n",
      " [ 0.18749201  3.7923129 ]\n",
      " [ 0.12042076  7.62470644]\n",
      " [ 9.81879055 -1.97438815]] [4 2 0 2 4 2 1 0 3 4]\n"
     ]
    }
   ],
   "source": [
    "from sklearn.datasets import make_blobs\n",
    "X,y = make_blobs(centers=5, n_samples=10000, random_state=0, cluster_std=0.7)\n",
    "print(X[:10],y[:10])"
   ]
  },
  {
   "cell_type": "code",
   "execution_count": 26,
   "metadata": {},
   "outputs": [
    {
     "data": {
      "image/png": "[encoded data removed]",
      "text/plain": [
       "<Figure size 432x288 with 1 Axes>"
      ]
     },
     "metadata": {
      "needs_background": "light"
     },
     "output_type": "display_data"
    }
   ],
   "source": [
    "\n",
    "plt.scatter(X[:,0],X[:,1]);"
   ]
  },
  {
   "cell_type": "code",
   "execution_count": 27,
   "metadata": {},
   "outputs": [
    {
     "name": "stdout",
     "output_type": "stream",
     "text": [
      "[[ 0.94982563  4.3040176 ]\n",
      " [ 9.25674584 -2.28908786]\n",
      " [ 2.05988726  0.88669136]\n",
      " [-1.23534254  7.83720872]\n",
      " [-1.55264402  2.89713854]]\n"
     ]
    }
   ],
   "source": [
    "from sklearn.cluster import KMeans\n",
    "model = KMeans(5)\n",
    "model.fit(X)\n",
    "print(model.cluster_centers_)"
   ]
  },
  {
   "cell_type": "code",
   "execution_count": 28,
   "metadata": {},
   "outputs": [
    {
     "data": {
      "image/png": "[encoded data removed]",
      "text/plain": [
       "<Figure size 432x288 with 1 Axes>"
      ]
     },
     "metadata": {
      "needs_background": "light"
     },
     "output_type": "display_data"
    }
   ],
   "source": [
    "plt.scatter(X[:,0],X[:,1], c=model.labels_);\n",
    "plt.scatter(model.cluster_centers_[:,0], model.cluster_centers_[:,1], s=100, color=\"red\"); # Show the centres"
   ]
  },
  {
   "cell_type": "code",
   "execution_count": 29,
   "metadata": {},
   "outputs": [
    {
     "name": "stdout",
     "output_type": "stream",
     "text": [
      "Accuracy score is 0.3953\n"
     ]
    }
   ],
   "source": [
    "from sklearn.metrics import accuracy_score\n",
    "acc=accuracy_score(y, model.labels_)\n",
    "print(\"Accuracy score is\", acc)"
   ]
  },
  {
   "cell_type": "code",
   "execution_count": 30,
   "metadata": {},
   "outputs": [],
   "source": [
    "import scipy\n",
    "def find_permutation(n_clusters, real_labels, labels):\n",
    "    permutation=[]\n",
    "    for i in range(n_clusters):\n",
    "        idx = labels == i\n",
    "        new_label=scipy.stats.mode(real_labels[idx])[0][0]  # Choose the most common label among data points in the cluster\n",
    "        permutation.append(new_label)\n",
    "    return permutation"
   ]
  },
  {
   "cell_type": "code",
   "execution_count": 31,
   "metadata": {},
   "outputs": [
    {
     "name": "stdout",
     "output_type": "stream",
     "text": [
      "[0, 4, 1, 3, 2]\n"
     ]
    }
   ],
   "source": [
    "permutation = find_permutation(5, y, model.labels_)\n",
    "print(permutation)"
   ]
  },
  {
   "cell_type": "code",
   "execution_count": 32,
   "metadata": {},
   "outputs": [
    {
     "name": "stdout",
     "output_type": "stream",
     "text": [
      "Accuracy score is 0.9893\n"
     ]
    }
   ],
   "source": [
    "new_labels = [ permutation[label] for label in model.labels_]   # permute the labels\n",
    "print(\"Accuracy score is\", accuracy_score(y, new_labels))"
   ]
  },
  {
   "cell_type": "code",
   "execution_count": 41,
   "metadata": {},
   "outputs": [
    {
     "data": {
      "image/png": "[encoded data removed]",
      "text/plain": [
       "<Figure size 432x288 with 1 Axes>"
      ]
     },
     "metadata": {
      "needs_background": "light"
     },
     "output_type": "display_data"
    }
   ],
   "source": [
    "plt.scatter(X[:,0],X[:,1], c=new_labels);\n",
    "plt.scatter(model.cluster_centers_[:,0], model.cluster_centers_[:,1], s=100, color=\"red\"); # Show the centres"
   ]
  },
  {
   "cell_type": "code",
   "execution_count": null,
   "metadata": {},
   "outputs": [],
   "source": []
  }
 ],
 "metadata": {
  "kernelspec": {
   "display_name": "Python 3",
   "language": "python",
   "name": "python3"
  },
  "language_info": {
   "codemirror_mode": {
    "name": "ipython",
    "version": 3
   },
   "file_extension": ".py",
   "mimetype": "text/x-python",
   "name": "python",
   "nbconvert_exporter": "python",
   "pygments_lexer": "ipython3",
   "version": "3.7.4"
  }
 },
 "nbformat": 4,
 "nbformat_minor": 4
}
